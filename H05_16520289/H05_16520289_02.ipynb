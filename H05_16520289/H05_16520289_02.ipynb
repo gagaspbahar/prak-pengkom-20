{
 "cells": [
  {
   "cell_type": "code",
   "execution_count": 1,
   "metadata": {},
   "outputs": [],
   "source": [
    "# NIM/Nama: 16520289/Gagas Praharsa Bahar\n",
    "# Tanggal: 13 Desember 2020\n",
    "# Deskripsi: Problem 2"
   ]
  },
  {
   "cell_type": "code",
   "execution_count": 2,
   "metadata": {},
   "outputs": [],
   "source": [
    "#Import modules\n",
    "import pandas as pd\n",
    "import matplotlib.pyplot as plt"
   ]
  },
  {
   "cell_type": "code",
   "execution_count": 3,
   "metadata": {},
   "outputs": [],
   "source": [
    "#Dataframe init\n",
    "df = pd.read_csv(\"nilai_uas.csv\")"
   ]
  },
  {
   "cell_type": "code",
   "execution_count": 4,
   "metadata": {},
   "outputs": [
    {
     "data": {
      "text/html": [
       "<div>\n",
       "<style scoped>\n",
       "    .dataframe tbody tr th:only-of-type {\n",
       "        vertical-align: middle;\n",
       "    }\n",
       "\n",
       "    .dataframe tbody tr th {\n",
       "        vertical-align: top;\n",
       "    }\n",
       "\n",
       "    .dataframe thead th {\n",
       "        text-align: right;\n",
       "    }\n",
       "</style>\n",
       "<table border=\"1\" class=\"dataframe\">\n",
       "  <thead>\n",
       "    <tr style=\"text-align: right;\">\n",
       "      <th></th>\n",
       "      <th>nama</th>\n",
       "      <th>fakultas</th>\n",
       "      <th>nilai_kal</th>\n",
       "      <th>nilai_fis</th>\n",
       "      <th>nilai_kim</th>\n",
       "    </tr>\n",
       "  </thead>\n",
       "  <tbody>\n",
       "    <tr>\n",
       "      <th>0</th>\n",
       "      <td>Raihan Daris</td>\n",
       "      <td>SF</td>\n",
       "      <td>60.27</td>\n",
       "      <td>65.59</td>\n",
       "      <td>51.70</td>\n",
       "    </tr>\n",
       "    <tr>\n",
       "      <th>1</th>\n",
       "      <td>Galuh Wina</td>\n",
       "      <td>STEI</td>\n",
       "      <td>52.99</td>\n",
       "      <td>55.25</td>\n",
       "      <td>66.31</td>\n",
       "    </tr>\n",
       "    <tr>\n",
       "      <th>2</th>\n",
       "      <td>Johannes Sun</td>\n",
       "      <td>FMIPA</td>\n",
       "      <td>51.20</td>\n",
       "      <td>51.30</td>\n",
       "      <td>84.70</td>\n",
       "    </tr>\n",
       "    <tr>\n",
       "      <th>3</th>\n",
       "      <td>Abdurrahman WIlliam</td>\n",
       "      <td>FTSL</td>\n",
       "      <td>31.17</td>\n",
       "      <td>36.88</td>\n",
       "      <td>50.25</td>\n",
       "    </tr>\n",
       "    <tr>\n",
       "      <th>4</th>\n",
       "      <td>Rayhan Faris</td>\n",
       "      <td>STEI</td>\n",
       "      <td>55.55</td>\n",
       "      <td>57.61</td>\n",
       "      <td>67.46</td>\n",
       "    </tr>\n",
       "  </tbody>\n",
       "</table>\n",
       "</div>"
      ],
      "text/plain": [
       "                  nama fakultas  nilai_kal  nilai_fis  nilai_kim\n",
       "0         Raihan Daris       SF      60.27      65.59      51.70\n",
       "1           Galuh Wina     STEI      52.99      55.25      66.31\n",
       "2         Johannes Sun    FMIPA      51.20      51.30      84.70\n",
       "3  Abdurrahman WIlliam     FTSL      31.17      36.88      50.25\n",
       "4         Rayhan Faris     STEI      55.55      57.61      67.46"
      ]
     },
     "execution_count": 4,
     "metadata": {},
     "output_type": "execute_result"
    }
   ],
   "source": [
    "#Checking\n",
    "df.head()"
   ]
  },
  {
   "cell_type": "code",
   "execution_count": 5,
   "metadata": {},
   "outputs": [
    {
     "data": {
      "text/html": [
       "<div>\n",
       "<style scoped>\n",
       "    .dataframe tbody tr th:only-of-type {\n",
       "        vertical-align: middle;\n",
       "    }\n",
       "\n",
       "    .dataframe tbody tr th {\n",
       "        vertical-align: top;\n",
       "    }\n",
       "\n",
       "    .dataframe thead th {\n",
       "        text-align: right;\n",
       "    }\n",
       "</style>\n",
       "<table border=\"1\" class=\"dataframe\">\n",
       "  <thead>\n",
       "    <tr style=\"text-align: right;\">\n",
       "      <th></th>\n",
       "      <th>nama</th>\n",
       "      <th>fakultas</th>\n",
       "      <th>nilai_kal</th>\n",
       "      <th>nilai_fis</th>\n",
       "      <th>nilai_kim</th>\n",
       "    </tr>\n",
       "  </thead>\n",
       "  <tbody>\n",
       "    <tr>\n",
       "      <th>391</th>\n",
       "      <td>Tuan Mor</td>\n",
       "      <td>STEI</td>\n",
       "      <td>94.76</td>\n",
       "      <td>67.5</td>\n",
       "      <td>24.82</td>\n",
       "    </tr>\n",
       "  </tbody>\n",
       "</table>\n",
       "</div>"
      ],
      "text/plain": [
       "         nama fakultas  nilai_kal  nilai_fis  nilai_kim\n",
       "391  Tuan Mor     STEI      94.76       67.5      24.82"
      ]
     },
     "execution_count": 5,
     "metadata": {},
     "output_type": "execute_result"
    }
   ],
   "source": [
    "#Searching for Tuan Mor\n",
    "df.loc[df[\"nama\"] == \"Tuan Mor\"]"
   ]
  },
  {
   "cell_type": "code",
   "execution_count": 6,
   "metadata": {},
   "outputs": [],
   "source": [
    "# Diatas adalah data nilai dari Tuan Mor."
   ]
  },
  {
   "cell_type": "code",
   "execution_count": 7,
   "metadata": {},
   "outputs": [
    {
     "data": {
      "text/html": [
       "<div>\n",
       "<style scoped>\n",
       "    .dataframe tbody tr th:only-of-type {\n",
       "        vertical-align: middle;\n",
       "    }\n",
       "\n",
       "    .dataframe tbody tr th {\n",
       "        vertical-align: top;\n",
       "    }\n",
       "\n",
       "    .dataframe thead th {\n",
       "        text-align: right;\n",
       "    }\n",
       "</style>\n",
       "<table border=\"1\" class=\"dataframe\">\n",
       "  <thead>\n",
       "    <tr style=\"text-align: right;\">\n",
       "      <th></th>\n",
       "      <th>nama</th>\n",
       "      <th>fakultas</th>\n",
       "      <th>nilai_kal</th>\n",
       "      <th>nilai_fis</th>\n",
       "      <th>nilai_kim</th>\n",
       "    </tr>\n",
       "  </thead>\n",
       "  <tbody>\n",
       "    <tr>\n",
       "      <th>250</th>\n",
       "      <td>Cahyani Mora</td>\n",
       "      <td>FSRD</td>\n",
       "      <td>100.0</td>\n",
       "      <td>100.0</td>\n",
       "      <td>79.55</td>\n",
       "    </tr>\n",
       "  </tbody>\n",
       "</table>\n",
       "</div>"
      ],
      "text/plain": [
       "             nama fakultas  nilai_kal  nilai_fis  nilai_kim\n",
       "250  Cahyani Mora     FSRD      100.0      100.0      79.55"
      ]
     },
     "execution_count": 7,
     "metadata": {},
     "output_type": "execute_result"
    }
   ],
   "source": [
    "maximum = df.max()\n",
    "df.loc[df[\"nilai_fis\"] == maximum[\"nilai_fis\"]]"
   ]
  },
  {
   "cell_type": "code",
   "execution_count": 8,
   "metadata": {},
   "outputs": [],
   "source": [
    "# Diatas adalah nilai fisika tertinggi."
   ]
  },
  {
   "cell_type": "code",
   "execution_count": 9,
   "metadata": {},
   "outputs": [
    {
     "data": {
      "text/html": [
       "<div>\n",
       "<style scoped>\n",
       "    .dataframe tbody tr th:only-of-type {\n",
       "        vertical-align: middle;\n",
       "    }\n",
       "\n",
       "    .dataframe tbody tr th {\n",
       "        vertical-align: top;\n",
       "    }\n",
       "\n",
       "    .dataframe thead th {\n",
       "        text-align: right;\n",
       "    }\n",
       "</style>\n",
       "<table border=\"1\" class=\"dataframe\">\n",
       "  <thead>\n",
       "    <tr style=\"text-align: right;\">\n",
       "      <th></th>\n",
       "      <th>nama</th>\n",
       "      <th>fakultas</th>\n",
       "      <th>nilai_kal</th>\n",
       "      <th>nilai_fis</th>\n",
       "      <th>nilai_kim</th>\n",
       "    </tr>\n",
       "  </thead>\n",
       "  <tbody>\n",
       "    <tr>\n",
       "      <th>3074</th>\n",
       "      <td>Muhammadi Jumhur</td>\n",
       "      <td>FTSL</td>\n",
       "      <td>35.56</td>\n",
       "      <td>39.49</td>\n",
       "      <td>88.38</td>\n",
       "    </tr>\n",
       "    <tr>\n",
       "      <th>640</th>\n",
       "      <td>Grace Yoga</td>\n",
       "      <td>FTTM</td>\n",
       "      <td>42.24</td>\n",
       "      <td>48.16</td>\n",
       "      <td>86.26</td>\n",
       "    </tr>\n",
       "    <tr>\n",
       "      <th>18</th>\n",
       "      <td>Maria Manurung</td>\n",
       "      <td>FTMD</td>\n",
       "      <td>56.86</td>\n",
       "      <td>58.83</td>\n",
       "      <td>86.26</td>\n",
       "    </tr>\n",
       "    <tr>\n",
       "      <th>3469</th>\n",
       "      <td>Dhiya Wafa</td>\n",
       "      <td>SBM</td>\n",
       "      <td>68.89</td>\n",
       "      <td>76.51</td>\n",
       "      <td>85.73</td>\n",
       "    </tr>\n",
       "    <tr>\n",
       "      <th>661</th>\n",
       "      <td>Rasyid FH</td>\n",
       "      <td>FSRD</td>\n",
       "      <td>77.78</td>\n",
       "      <td>77.89</td>\n",
       "      <td>85.26</td>\n",
       "    </tr>\n",
       "    <tr>\n",
       "      <th>1884</th>\n",
       "      <td>Sukma Ulhaq</td>\n",
       "      <td>FITB</td>\n",
       "      <td>43.97</td>\n",
       "      <td>44.91</td>\n",
       "      <td>85.26</td>\n",
       "    </tr>\n",
       "    <tr>\n",
       "      <th>780</th>\n",
       "      <td>Rizam Rayhan</td>\n",
       "      <td>FSRD</td>\n",
       "      <td>72.15</td>\n",
       "      <td>71.38</td>\n",
       "      <td>85.07</td>\n",
       "    </tr>\n",
       "    <tr>\n",
       "      <th>283</th>\n",
       "      <td>WIJAYANTI Amadio</td>\n",
       "      <td>SITHS</td>\n",
       "      <td>61.96</td>\n",
       "      <td>57.73</td>\n",
       "      <td>85.07</td>\n",
       "    </tr>\n",
       "    <tr>\n",
       "      <th>3017</th>\n",
       "      <td>Jevon Tangguh</td>\n",
       "      <td>FMIPA</td>\n",
       "      <td>50.42</td>\n",
       "      <td>48.15</td>\n",
       "      <td>84.92</td>\n",
       "    </tr>\n",
       "    <tr>\n",
       "      <th>2487</th>\n",
       "      <td>Ediva zilva</td>\n",
       "      <td>SITHR</td>\n",
       "      <td>65.04</td>\n",
       "      <td>69.31</td>\n",
       "      <td>84.87</td>\n",
       "    </tr>\n",
       "  </tbody>\n",
       "</table>\n",
       "</div>"
      ],
      "text/plain": [
       "                  nama fakultas  nilai_kal  nilai_fis  nilai_kim\n",
       "3074  Muhammadi Jumhur     FTSL      35.56      39.49      88.38\n",
       "640         Grace Yoga     FTTM      42.24      48.16      86.26\n",
       "18      Maria Manurung     FTMD      56.86      58.83      86.26\n",
       "3469        Dhiya Wafa      SBM      68.89      76.51      85.73\n",
       "661          Rasyid FH     FSRD      77.78      77.89      85.26\n",
       "1884       Sukma Ulhaq     FITB      43.97      44.91      85.26\n",
       "780       Rizam Rayhan     FSRD      72.15      71.38      85.07\n",
       "283   WIJAYANTI Amadio    SITHS      61.96      57.73      85.07\n",
       "3017     Jevon Tangguh    FMIPA      50.42      48.15      84.92\n",
       "2487       Ediva zilva    SITHR      65.04      69.31      84.87"
      ]
     },
     "execution_count": 9,
     "metadata": {},
     "output_type": "execute_result"
    }
   ],
   "source": [
    "dfsorted = df.sort_values([\"nilai_kim\"], ascending=[0])\n",
    "dfsorted[:10]"
   ]
  },
  {
   "cell_type": "code",
   "execution_count": 10,
   "metadata": {},
   "outputs": [],
   "source": [
    "# Diatas adalah 10 nilai kimia tertinggi."
   ]
  },
  {
   "cell_type": "code",
   "execution_count": 11,
   "metadata": {},
   "outputs": [
    {
     "data": {
      "text/plain": [
       "1549"
      ]
     },
     "execution_count": 11,
     "metadata": {},
     "output_type": "execute_result"
    }
   ],
   "source": [
    "df[df[\"nilai_kal\"] < 50][\"nilai_kal\"].count()"
   ]
  },
  {
   "cell_type": "code",
   "execution_count": 12,
   "metadata": {},
   "outputs": [],
   "source": [
    "# Banyaknya nilai kalkulus di bawah 50 adalah 1549."
   ]
  },
  {
   "cell_type": "code",
   "execution_count": 13,
   "metadata": {},
   "outputs": [
    {
     "data": {
      "text/plain": [
       "396"
      ]
     },
     "execution_count": 13,
     "metadata": {},
     "output_type": "execute_result"
    }
   ],
   "source": [
    "df[df[\"fakultas\"] == \"FMIPA\"][\"fakultas\"].count()"
   ]
  },
  {
   "cell_type": "code",
   "execution_count": 14,
   "metadata": {},
   "outputs": [],
   "source": [
    "# Banyaknya mahasiswa FMIPA sebanyak 396 orang."
   ]
  }
 ],
 "metadata": {
  "kernelspec": {
   "display_name": "Python 3",
   "language": "python",
   "name": "python3"
  },
  "language_info": {
   "codemirror_mode": {
    "name": "ipython",
    "version": 3
   },
   "file_extension": ".py",
   "mimetype": "text/x-python",
   "name": "python",
   "nbconvert_exporter": "python",
   "pygments_lexer": "ipython3",
   "version": "3.9.0"
  }
 },
 "nbformat": 4,
 "nbformat_minor": 4
}
