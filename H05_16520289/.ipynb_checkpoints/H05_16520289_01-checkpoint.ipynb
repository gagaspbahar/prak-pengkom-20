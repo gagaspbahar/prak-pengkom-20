{
 "cells": [
  {
   "cell_type": "code",
   "execution_count": null,
   "metadata": {},
   "outputs": [],
   "source": [
    "# NIM/Nama: 16520289/Gagas Praharsa Bahar\n",
    "# Tanggal: 13 Desember 2020\n",
    "# Deskripsi: Problem 1"
   ]
  },
  {
   "cell_type": "code",
   "execution_count": 1,
   "metadata": {},
   "outputs": [],
   "source": [
    "import pandas as pd\n",
    "import matplotlib.pyplot as plt"
   ]
  },
  {
   "cell_type": "code",
   "execution_count": 2,
   "metadata": {},
   "outputs": [],
   "source": [
    "df = pd.read_csv(\"nilai_uas.csv\")"
   ]
  },
  {
   "cell_type": "code",
   "execution_count": 3,
   "metadata": {},
   "outputs": [
    {
     "data": {
      "text/html": [
       "<div>\n",
       "<style scoped>\n",
       "    .dataframe tbody tr th:only-of-type {\n",
       "        vertical-align: middle;\n",
       "    }\n",
       "\n",
       "    .dataframe tbody tr th {\n",
       "        vertical-align: top;\n",
       "    }\n",
       "\n",
       "    .dataframe thead th {\n",
       "        text-align: right;\n",
       "    }\n",
       "</style>\n",
       "<table border=\"1\" class=\"dataframe\">\n",
       "  <thead>\n",
       "    <tr style=\"text-align: right;\">\n",
       "      <th></th>\n",
       "      <th>nama</th>\n",
       "      <th>fakultas</th>\n",
       "      <th>nilai_kal</th>\n",
       "      <th>nilai_fis</th>\n",
       "      <th>nilai_kim</th>\n",
       "    </tr>\n",
       "  </thead>\n",
       "  <tbody>\n",
       "    <tr>\n",
       "      <th>0</th>\n",
       "      <td>Raihan Daris</td>\n",
       "      <td>SF</td>\n",
       "      <td>60.27</td>\n",
       "      <td>65.59</td>\n",
       "      <td>51.70</td>\n",
       "    </tr>\n",
       "    <tr>\n",
       "      <th>1</th>\n",
       "      <td>Galuh Wina</td>\n",
       "      <td>STEI</td>\n",
       "      <td>52.99</td>\n",
       "      <td>55.25</td>\n",
       "      <td>66.31</td>\n",
       "    </tr>\n",
       "    <tr>\n",
       "      <th>2</th>\n",
       "      <td>Johannes Sun</td>\n",
       "      <td>FMIPA</td>\n",
       "      <td>51.20</td>\n",
       "      <td>51.30</td>\n",
       "      <td>84.70</td>\n",
       "    </tr>\n",
       "    <tr>\n",
       "      <th>3</th>\n",
       "      <td>Abdurrahman WIlliam</td>\n",
       "      <td>FTSL</td>\n",
       "      <td>31.17</td>\n",
       "      <td>36.88</td>\n",
       "      <td>50.25</td>\n",
       "    </tr>\n",
       "    <tr>\n",
       "      <th>4</th>\n",
       "      <td>Rayhan Faris</td>\n",
       "      <td>STEI</td>\n",
       "      <td>55.55</td>\n",
       "      <td>57.61</td>\n",
       "      <td>67.46</td>\n",
       "    </tr>\n",
       "  </tbody>\n",
       "</table>\n",
       "</div>"
      ],
      "text/plain": [
       "                  nama fakultas  nilai_kal  nilai_fis  nilai_kim\n",
       "0         Raihan Daris       SF      60.27      65.59      51.70\n",
       "1           Galuh Wina     STEI      52.99      55.25      66.31\n",
       "2         Johannes Sun    FMIPA      51.20      51.30      84.70\n",
       "3  Abdurrahman WIlliam     FTSL      31.17      36.88      50.25\n",
       "4         Rayhan Faris     STEI      55.55      57.61      67.46"
      ]
     },
     "execution_count": 3,
     "metadata": {},
     "output_type": "execute_result"
    }
   ],
   "source": [
    "df.head()"
   ]
  },
  {
   "cell_type": "code",
   "execution_count": 4,
   "metadata": {},
   "outputs": [
    {
     "data": {
      "text/plain": [
       "nama         3562\n",
       "fakultas     3562\n",
       "nilai_kal    3562\n",
       "nilai_fis    3562\n",
       "nilai_kim    3562\n",
       "dtype: int64"
      ]
     },
     "execution_count": 4,
     "metadata": {},
     "output_type": "execute_result"
    }
   ],
   "source": [
    "df.count()"
   ]
  },
  {
   "cell_type": "code",
   "execution_count": null,
   "metadata": {},
   "outputs": [],
   "source": [
    "#Terlihat dari count diatas bahwa jumlah data ada sebanyak 3562 buah."
   ]
  },
  {
   "cell_type": "code",
   "execution_count": 5,
   "metadata": {},
   "outputs": [
    {
     "data": {
      "text/html": [
       "<div>\n",
       "<style scoped>\n",
       "    .dataframe tbody tr th:only-of-type {\n",
       "        vertical-align: middle;\n",
       "    }\n",
       "\n",
       "    .dataframe tbody tr th {\n",
       "        vertical-align: top;\n",
       "    }\n",
       "\n",
       "    .dataframe thead th {\n",
       "        text-align: right;\n",
       "    }\n",
       "</style>\n",
       "<table border=\"1\" class=\"dataframe\">\n",
       "  <thead>\n",
       "    <tr style=\"text-align: right;\">\n",
       "      <th></th>\n",
       "      <th>nama</th>\n",
       "      <th>fakultas</th>\n",
       "      <th>nilai_kal</th>\n",
       "      <th>nilai_fis</th>\n",
       "      <th>nilai_kim</th>\n",
       "    </tr>\n",
       "  </thead>\n",
       "  <tbody>\n",
       "    <tr>\n",
       "      <th>0</th>\n",
       "      <td>Raihan Daris</td>\n",
       "      <td>SF</td>\n",
       "      <td>60.27</td>\n",
       "      <td>65.59</td>\n",
       "      <td>51.70</td>\n",
       "    </tr>\n",
       "    <tr>\n",
       "      <th>1</th>\n",
       "      <td>Galuh Wina</td>\n",
       "      <td>STEI</td>\n",
       "      <td>52.99</td>\n",
       "      <td>55.25</td>\n",
       "      <td>66.31</td>\n",
       "    </tr>\n",
       "    <tr>\n",
       "      <th>2</th>\n",
       "      <td>Johannes Sun</td>\n",
       "      <td>FMIPA</td>\n",
       "      <td>51.20</td>\n",
       "      <td>51.30</td>\n",
       "      <td>84.70</td>\n",
       "    </tr>\n",
       "    <tr>\n",
       "      <th>3</th>\n",
       "      <td>Abdurrahman WIlliam</td>\n",
       "      <td>FTSL</td>\n",
       "      <td>31.17</td>\n",
       "      <td>36.88</td>\n",
       "      <td>50.25</td>\n",
       "    </tr>\n",
       "    <tr>\n",
       "      <th>4</th>\n",
       "      <td>Rayhan Faris</td>\n",
       "      <td>STEI</td>\n",
       "      <td>55.55</td>\n",
       "      <td>57.61</td>\n",
       "      <td>67.46</td>\n",
       "    </tr>\n",
       "    <tr>\n",
       "      <th>5</th>\n",
       "      <td>Margareth Widyatama</td>\n",
       "      <td>FTTM</td>\n",
       "      <td>42.78</td>\n",
       "      <td>50.23</td>\n",
       "      <td>71.17</td>\n",
       "    </tr>\n",
       "    <tr>\n",
       "      <th>6</th>\n",
       "      <td>Christofer Jaza</td>\n",
       "      <td>FTSL</td>\n",
       "      <td>31.64</td>\n",
       "      <td>38.03</td>\n",
       "      <td>34.99</td>\n",
       "    </tr>\n",
       "    <tr>\n",
       "      <th>7</th>\n",
       "      <td>Wafika Nadia</td>\n",
       "      <td>SF</td>\n",
       "      <td>60.96</td>\n",
       "      <td>57.54</td>\n",
       "      <td>76.03</td>\n",
       "    </tr>\n",
       "    <tr>\n",
       "      <th>8</th>\n",
       "      <td>Elizabeth Parikesit</td>\n",
       "      <td>STEI</td>\n",
       "      <td>54.35</td>\n",
       "      <td>55.30</td>\n",
       "      <td>59.15</td>\n",
       "    </tr>\n",
       "    <tr>\n",
       "      <th>9</th>\n",
       "      <td>Halida Aqila</td>\n",
       "      <td>SITHR</td>\n",
       "      <td>63.71</td>\n",
       "      <td>67.23</td>\n",
       "      <td>63.76</td>\n",
       "    </tr>\n",
       "  </tbody>\n",
       "</table>\n",
       "</div>"
      ],
      "text/plain": [
       "                  nama fakultas  nilai_kal  nilai_fis  nilai_kim\n",
       "0         Raihan Daris       SF      60.27      65.59      51.70\n",
       "1           Galuh Wina     STEI      52.99      55.25      66.31\n",
       "2         Johannes Sun    FMIPA      51.20      51.30      84.70\n",
       "3  Abdurrahman WIlliam     FTSL      31.17      36.88      50.25\n",
       "4         Rayhan Faris     STEI      55.55      57.61      67.46\n",
       "5  Margareth Widyatama     FTTM      42.78      50.23      71.17\n",
       "6      Christofer Jaza     FTSL      31.64      38.03      34.99\n",
       "7         Wafika Nadia       SF      60.96      57.54      76.03\n",
       "8  Elizabeth Parikesit     STEI      54.35      55.30      59.15\n",
       "9         Halida Aqila    SITHR      63.71      67.23      63.76"
      ]
     },
     "execution_count": 5,
     "metadata": {},
     "output_type": "execute_result"
    }
   ],
   "source": [
    "df[:10]"
   ]
  },
  {
   "cell_type": "code",
   "execution_count": null,
   "metadata": {},
   "outputs": [],
   "source": [
    "#Diatas adalah 10 data pertama dari file."
   ]
  },
  {
   "cell_type": "code",
   "execution_count": 6,
   "metadata": {},
   "outputs": [
    {
     "data": {
      "text/html": [
       "<div>\n",
       "<style scoped>\n",
       "    .dataframe tbody tr th:only-of-type {\n",
       "        vertical-align: middle;\n",
       "    }\n",
       "\n",
       "    .dataframe tbody tr th {\n",
       "        vertical-align: top;\n",
       "    }\n",
       "\n",
       "    .dataframe thead th {\n",
       "        text-align: right;\n",
       "    }\n",
       "</style>\n",
       "<table border=\"1\" class=\"dataframe\">\n",
       "  <thead>\n",
       "    <tr style=\"text-align: right;\">\n",
       "      <th></th>\n",
       "      <th>nama</th>\n",
       "      <th>fakultas</th>\n",
       "      <th>nilai_kal</th>\n",
       "      <th>nilai_fis</th>\n",
       "      <th>nilai_kim</th>\n",
       "    </tr>\n",
       "  </thead>\n",
       "  <tbody>\n",
       "    <tr>\n",
       "      <th>49</th>\n",
       "      <td>Kenesha Monica</td>\n",
       "      <td>FTTM</td>\n",
       "      <td>41.63</td>\n",
       "      <td>39.58</td>\n",
       "      <td>61.25</td>\n",
       "    </tr>\n",
       "    <tr>\n",
       "      <th>50</th>\n",
       "      <td>Ulul Mochammad</td>\n",
       "      <td>FTTM</td>\n",
       "      <td>38.75</td>\n",
       "      <td>44.24</td>\n",
       "      <td>40.11</td>\n",
       "    </tr>\n",
       "    <tr>\n",
       "      <th>51</th>\n",
       "      <td>George Vrince</td>\n",
       "      <td>FITB</td>\n",
       "      <td>44.02</td>\n",
       "      <td>45.15</td>\n",
       "      <td>41.76</td>\n",
       "    </tr>\n",
       "    <tr>\n",
       "      <th>52</th>\n",
       "      <td>Fayza Eunike</td>\n",
       "      <td>STEI</td>\n",
       "      <td>55.28</td>\n",
       "      <td>59.47</td>\n",
       "      <td>49.29</td>\n",
       "    </tr>\n",
       "    <tr>\n",
       "      <th>53</th>\n",
       "      <td>Kevin Faustin</td>\n",
       "      <td>SAPPK</td>\n",
       "      <td>47.72</td>\n",
       "      <td>49.65</td>\n",
       "      <td>52.76</td>\n",
       "    </tr>\n",
       "    <tr>\n",
       "      <th>54</th>\n",
       "      <td>salah Siagian</td>\n",
       "      <td>SAPPK</td>\n",
       "      <td>47.14</td>\n",
       "      <td>51.26</td>\n",
       "      <td>46.77</td>\n",
       "    </tr>\n",
       "    <tr>\n",
       "      <th>55</th>\n",
       "      <td>Nabilah Satya</td>\n",
       "      <td>SF</td>\n",
       "      <td>61.26</td>\n",
       "      <td>63.96</td>\n",
       "      <td>57.19</td>\n",
       "    </tr>\n",
       "    <tr>\n",
       "      <th>56</th>\n",
       "      <td>Tharisa Ghiffari</td>\n",
       "      <td>FSRD</td>\n",
       "      <td>74.14</td>\n",
       "      <td>78.86</td>\n",
       "      <td>54.59</td>\n",
       "    </tr>\n",
       "    <tr>\n",
       "      <th>57</th>\n",
       "      <td>Setyawan Ahmad</td>\n",
       "      <td>FSRD</td>\n",
       "      <td>75.18</td>\n",
       "      <td>78.33</td>\n",
       "      <td>51.35</td>\n",
       "    </tr>\n",
       "    <tr>\n",
       "      <th>58</th>\n",
       "      <td>Kelvin Salsabiela</td>\n",
       "      <td>FTTM</td>\n",
       "      <td>39.69</td>\n",
       "      <td>40.92</td>\n",
       "      <td>51.15</td>\n",
       "    </tr>\n",
       "    <tr>\n",
       "      <th>59</th>\n",
       "      <td>Sitorus Aidil</td>\n",
       "      <td>FTMD</td>\n",
       "      <td>58.49</td>\n",
       "      <td>55.54</td>\n",
       "      <td>55.20</td>\n",
       "    </tr>\n",
       "  </tbody>\n",
       "</table>\n",
       "</div>"
      ],
      "text/plain": [
       "                 nama fakultas  nilai_kal  nilai_fis  nilai_kim\n",
       "49     Kenesha Monica     FTTM      41.63      39.58      61.25\n",
       "50     Ulul Mochammad     FTTM      38.75      44.24      40.11\n",
       "51      George Vrince     FITB      44.02      45.15      41.76\n",
       "52       Fayza Eunike     STEI      55.28      59.47      49.29\n",
       "53      Kevin Faustin    SAPPK      47.72      49.65      52.76\n",
       "54      salah Siagian    SAPPK      47.14      51.26      46.77\n",
       "55      Nabilah Satya       SF      61.26      63.96      57.19\n",
       "56   Tharisa Ghiffari     FSRD      74.14      78.86      54.59\n",
       "57     Setyawan Ahmad     FSRD      75.18      78.33      51.35\n",
       "58  Kelvin Salsabiela     FTTM      39.69      40.92      51.15\n",
       "59      Sitorus Aidil     FTMD      58.49      55.54      55.20"
      ]
     },
     "execution_count": 6,
     "metadata": {},
     "output_type": "execute_result"
    }
   ],
   "source": [
    "df[49:60]"
   ]
  },
  {
   "cell_type": "code",
   "execution_count": null,
   "metadata": {},
   "outputs": [],
   "source": [
    "#Diatas adalah data ke 50 sampai 60."
   ]
  },
  {
   "cell_type": "code",
   "execution_count": 7,
   "metadata": {},
   "outputs": [
    {
     "data": {
      "text/plain": [
       "STEI     499\n",
       "FTTM     454\n",
       "FTSL     424\n",
       "FMIPA    396\n",
       "FTMD     352\n",
       "FITB     283\n",
       "SBM      261\n",
       "FSRD     260\n",
       "SAPPK    198\n",
       "SITHR    179\n",
       "SF       154\n",
       "SITHS    102\n",
       "Name: fakultas, dtype: int64"
      ]
     },
     "execution_count": 7,
     "metadata": {},
     "output_type": "execute_result"
    }
   ],
   "source": [
    "df[\"fakultas\"].value_counts()"
   ]
  },
  {
   "cell_type": "code",
   "execution_count": null,
   "metadata": {},
   "outputs": [],
   "source": [
    "#Diatas adalah jumlah data per fakultas."
   ]
  },
  {
   "cell_type": "code",
   "execution_count": 8,
   "metadata": {},
   "outputs": [
    {
     "data": {
      "text/plain": [
       "0.9605289823695183"
      ]
     },
     "execution_count": 8,
     "metadata": {},
     "output_type": "execute_result"
    }
   ],
   "source": [
    "df[\"nilai_kal\"].corr(df[\"nilai_fis\"])"
   ]
  },
  {
   "cell_type": "code",
   "execution_count": null,
   "metadata": {},
   "outputs": [],
   "source": [
    "#Diatas adalah nilai R atau correlation dari kalkulus dan fisika. Karena nilainya mendekati 1, artinya berkorelasi lurus (makin besar nilai kalkulus, makin besar pula nilai fisika.)"
   ]
  },
  {
   "cell_type": "code",
   "execution_count": null,
   "metadata": {},
   "outputs": [],
   "source": []
  }
 ],
 "metadata": {
  "kernelspec": {
   "display_name": "Python 3",
   "language": "python",
   "name": "python3"
  },
  "language_info": {
   "codemirror_mode": {
    "name": "ipython",
    "version": 3
   },
   "file_extension": ".py",
   "mimetype": "text/x-python",
   "name": "python",
   "nbconvert_exporter": "python",
   "pygments_lexer": "ipython3",
   "version": "3.9.0"
  }
 },
 "nbformat": 4,
 "nbformat_minor": 4
}
